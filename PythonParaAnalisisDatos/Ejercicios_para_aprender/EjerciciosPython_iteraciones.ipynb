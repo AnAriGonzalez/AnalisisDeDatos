{
  "nbformat": 4,
  "nbformat_minor": 0,
  "metadata": {
    "colab": {
      "provenance": []
    },
    "kernelspec": {
      "name": "python3",
      "display_name": "Python 3"
    },
    "language_info": {
      "name": "python"
    }
  },
  "cells": [
    {
      "cell_type": "code",
      "execution_count": null,
      "metadata": {
        "colab": {
          "base_uri": "https://localhost:8080/"
        },
        "id": "9bT6hiFiHBqB",
        "outputId": "4aedf042-3cf3-4852-a535-3822b634f22b"
      },
      "outputs": [
        {
          "output_type": "stream",
          "name": "stdout",
          "text": [
            "iteración:  1 Suma:  1\n",
            "iteración:  2 Suma:  3\n",
            "iteración:  3 Suma:  6\n",
            "iteración:  4 Suma:  10\n",
            "iteración:  5 Suma:  15\n",
            "5\n"
          ]
        }
      ],
      "source": [
        "#iteración for\n",
        "\n",
        "suma = 0\n",
        "for i in range(1,6):\n",
        "  suma += i\n",
        "  print(\"iteración: \",i,\"Suma: \", suma)\n",
        "print(i)"
      ]
    },
    {
      "cell_type": "code",
      "source": [
        "i = 0\n",
        "while i <= 10:\n",
        "  print(i**2)\n",
        "  i = i + 1"
      ],
      "metadata": {
        "colab": {
          "base_uri": "https://localhost:8080/"
        },
        "id": "Z7tmnvGzJl9T",
        "outputId": "bda5dfe3-3ac8-4954-bc2c-e0118ca92f9b"
      },
      "execution_count": null,
      "outputs": [
        {
          "output_type": "stream",
          "name": "stdout",
          "text": [
            "0\n",
            "1\n",
            "4\n",
            "9\n",
            "16\n",
            "25\n",
            "36\n",
            "49\n",
            "64\n",
            "81\n",
            "100\n"
          ]
        }
      ]
    },
    {
      "cell_type": "code",
      "source": [
        "suma = 0\n",
        "numero = int(input(\"ingresa un numero positivo (0 para terminar)\"))\n",
        "\n",
        "while numero != 0: #mientras sea diferente de 0\n",
        "  suma += numero #pido sumar la variable número sobre si misma cada vez que agrego un número\n",
        "  numero = int(input(\"ingresa otro número: \")) #transformo el input solicitado en int (núero entero)\n",
        "print(\"la suma total es:\", suma)\n"
      ],
      "metadata": {
        "colab": {
          "base_uri": "https://localhost:8080/"
        },
        "id": "EW9e-RRUVBtc",
        "outputId": "a51d5982-4f23-4227-b7fd-f2456986de1a"
      },
      "execution_count": null,
      "outputs": [
        {
          "output_type": "stream",
          "name": "stdout",
          "text": [
            "ingresa un numero positivo (0 para terminar)2\n",
            "ingresa otro número: 3\n",
            "ingresa otro número: 4\n",
            "ingresa otro número: 5\n",
            "ingresa otro número: 6\n",
            "ingresa otro número: 7\n",
            "ingresa otro número: 8\n",
            "ingresa otro número: 9\n",
            "ingresa otro número: 0\n",
            "la suma total es: 44\n"
          ]
        }
      ]
    }
  ]
}