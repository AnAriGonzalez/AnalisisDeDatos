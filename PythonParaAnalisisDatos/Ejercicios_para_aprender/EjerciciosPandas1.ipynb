{
  "nbformat": 4,
  "nbformat_minor": 0,
  "metadata": {
    "colab": {
      "provenance": []
    },
    "kernelspec": {
      "name": "python3",
      "display_name": "Python 3"
    },
    "language_info": {
      "name": "python"
    }
  },
  "cells": [
    {
      "cell_type": "code",
      "execution_count": null,
      "metadata": {
        "colab": {
          "base_uri": "https://localhost:8080/"
        },
        "id": "JdSq3xqgpLjn",
        "outputId": "339335f0-eb81-4846-fde0-ee10f790715a"
      },
      "outputs": [
        {
          "output_type": "stream",
          "name": "stdout",
          "text": [
            "      Nombre  Densidad  Territorio_Km     Presidente\n",
            "0      Chile  19629590         756000  Gabriel Boric\n",
            "1       Perú  34352718        1285000  Dina Boluarte\n",
            "2    Bolivia  12388570        1100000      Luis Arce\n",
            "3  Argentina  46044703         278000   Javier Milei\n"
          ]
        }
      ],
      "source": [
        "import pandas as pd\n",
        "import numpy as np\n",
        "\n",
        "paises = {'Nombre':['Chile','Perú','Bolivia','Argentina'],'Densidad':[19629590, 34352718, 12388570, 46044703],\n",
        "         \"Territorio_Km\":[756000, 1285000, 1100000, 278000], 'Presidente': ['Gabriel Boric', 'Dina Boluarte', 'Luis Arce', 'Javier Milei']}\n",
        "\n",
        "\n",
        "paises = pd.DataFrame(paises)\n",
        "print(paises)"
      ]
    },
    {
      "cell_type": "code",
      "source": [
        "print(paises.head(1))"
      ],
      "metadata": {
        "colab": {
          "base_uri": "https://localhost:8080/"
        },
        "id": "hhFO0xtIxVJx",
        "outputId": "4adeced7-ba55-4ea8-81c0-1a46ea9b170c"
      },
      "execution_count": null,
      "outputs": [
        {
          "output_type": "stream",
          "name": "stdout",
          "text": [
            "  Nombre  Densidad  Territorio_Km     Presidente\n",
            "0  Chile  19629590         756000  Gabriel Boric\n"
          ]
        }
      ]
    },
    {
      "cell_type": "code",
      "source": [],
      "metadata": {
        "id": "wYPRU3Z0xy7H"
      },
      "execution_count": null,
      "outputs": []
    }
  ]
}