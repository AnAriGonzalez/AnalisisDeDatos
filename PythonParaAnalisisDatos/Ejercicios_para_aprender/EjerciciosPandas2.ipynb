{
  "nbformat": 4,
  "nbformat_minor": 0,
  "metadata": {
    "colab": {
      "provenance": [],
      "gpuType": "T4"
    },
    "kernelspec": {
      "name": "python3",
      "display_name": "Python 3"
    },
    "language_info": {
      "name": "python"
    },
    "accelerator": "GPU"
  },
  "cells": [
    {
      "cell_type": "code",
      "execution_count": null,
      "metadata": {
        "colab": {
          "base_uri": "https://localhost:8080/"
        },
        "id": "xW5lCLJzvPOA",
        "outputId": "dae01cfd-47f3-4bcc-a5a0-da6ffbb420db"
      },
      "outputs": [
        {
          "output_type": "stream",
          "name": "stdout",
          "text": [
            "0     Matemáticas\n",
            "1        Historia\n",
            "2        Economía\n",
            "3    Programación\n",
            "4          Inglés\n",
            "Name: Materias, dtype: string\n",
            "\n",
            "esto es print(s.size =) 5\n",
            "esto es print(s.index =) RangeIndex(start=0, stop=5, step=1)\n",
            "esto es print(s.dtype =) string\n"
          ]
        }
      ],
      "source": [
        "import pandas as pd\n",
        "s = pd.Series(['Matemáticas','Historia','Economía','Programación','Inglés'], dtype='string', name='Materias')\n",
        "print(s)\n",
        "print( )\n",
        "\n",
        "print(\"esto es print(s.size =)\", s.size)\n",
        "print(\"esto es print(s.index =)\", s.index)\n",
        "print(\"esto es print(s.dtype =)\", s.dtype)"
      ]
    },
    {
      "cell_type": "code",
      "source": [
        "s = pd.Series({'Matemáticas': 6.0,'Economía': 4.5 ,'Programación': 8.5}, name =\"Notas de Estudiantes\")\n",
        "print(s)\n",
        "print()\n",
        "print(\"esto es print(s.size =)\", s.size)\n",
        "print(\"esto es print(s.index =)\", s.index)\n",
        "print(\"esto es print(s.dtype =)\", s.dtype)\n"
      ],
      "metadata": {
        "colab": {
          "base_uri": "https://localhost:8080/"
        },
        "id": "Wval3SbpxBN5",
        "outputId": "d24e250c-debe-4761-f811-737baebc6470"
      },
      "execution_count": null,
      "outputs": [
        {
          "output_type": "stream",
          "name": "stdout",
          "text": [
            "Matemáticas     6.0\n",
            "Economía        4.5\n",
            "Programación    8.5\n",
            "Name: Notas de Estudiantes, dtype: float64\n",
            "\n",
            "esto es print(s.size =) 3\n",
            "esto es print(s.index =) Index(['Matemáticas', 'Economía', 'Programación'], dtype='object')\n",
            "esto es print(s.dtype =) float64\n"
          ]
        }
      ]
    },
    {
      "cell_type": "code",
      "source": [
        "serie = pd.Series([100,200,300], index =['A','B','C'], name = 'Precios de Productos')\n",
        "print(serie)\n",
        "#En este caso creamos un índice\n",
        "print(\"esto es print(s.size =)\", serie.size)\n",
        "print(\"esto es print(s.index =)\", serie.index)\n",
        "print(\"esto es print(s.dtype =)\", serie.dtype)\n"
      ],
      "metadata": {
        "colab": {
          "base_uri": "https://localhost:8080/"
        },
        "id": "548wOBpOyC1y",
        "outputId": "40d27292-7349-4c5b-9f1c-d8c37b5bb614"
      },
      "execution_count": null,
      "outputs": [
        {
          "output_type": "stream",
          "name": "stdout",
          "text": [
            "A    100\n",
            "B    200\n",
            "C    300\n",
            "Name: Precios de Productos, dtype: int64\n",
            "esto es print(s.size =) 3\n",
            "esto es print(s.index =) Index(['A', 'B', 'C'], dtype='object')\n",
            "esto es print(s.dtype =) int64\n"
          ]
        }
      ]
    },
    {
      "cell_type": "code",
      "source": [
        "import pandas as pd\n",
        "my_series = pd.Series(5, index =['A','B','C'], name = 'Escalar')\n",
        "\n",
        "print(my_series)\n",
        "print(\"esto es print(s.size =)\", my_series.size)\n",
        "print(\"esto es print(s.index =)\", my_series.index)\n",
        "print(\"esto es print(s.dtype =)\", my_series.dtype)"
      ],
      "metadata": {
        "colab": {
          "base_uri": "https://localhost:8080/"
        },
        "id": "jPKJiEwL1Jc5",
        "outputId": "69bd4b48-3b1a-406a-b348-e00e40d6456b"
      },
      "execution_count": null,
      "outputs": [
        {
          "output_type": "stream",
          "name": "stdout",
          "text": [
            "A    5\n",
            "B    5\n",
            "C    5\n",
            "Name: Escalar, dtype: int64\n",
            "esto es print(s.size =) 3\n",
            "esto es print(s.index =) Index(['A', 'B', 'C'], dtype='object')\n",
            "esto es print(s.dtype =) int64\n"
          ]
        }
      ]
    },
    {
      "cell_type": "code",
      "source": [
        "import pandas as pd\n",
        "h = pd.Series(['Mate','Hist','Econ','Progra','Ingl'], name='Materi')\n",
        "\n",
        "\n",
        "print(f\"Esto es un rango elegido por mi {h[1:3]}\")\n",
        "print()\n",
        "print(\"Esto es un acceso por posición\", h.iloc[1])"
      ],
      "metadata": {
        "colab": {
          "base_uri": "https://localhost:8080/"
        },
        "id": "Gc_8mqov2lWA",
        "outputId": "0d667736-d47a-4e1d-d5f0-bbc3077565a6"
      },
      "execution_count": null,
      "outputs": [
        {
          "output_type": "stream",
          "name": "stdout",
          "text": [
            "Esto es un rango elegido por mi 1    Hist\n",
            "2    Econ\n",
            "Name: Materi, dtype: object\n",
            "\n",
            "Esto es un acceso por posición Hist\n"
          ]
        }
      ]
    },
    {
      "cell_type": "code",
      "source": [
        "serie = pd.Series([100,200,300], index =['A','B','C'], name = 'Precios de Productos')\n",
        "print(serie)\n",
        "serie1 = pd.Series([150,250,350], index =['D','E','C'], name = 'Precios de Productos')\n",
        "print(serie1)\n",
        "print(serie+serie1)\n",
        "\n"
      ],
      "metadata": {
        "colab": {
          "base_uri": "https://localhost:8080/"
        },
        "id": "4Jyr7xxY8gUe",
        "outputId": "cd5b620f-5a9c-4e32-e55b-df7261f6ed01"
      },
      "execution_count": null,
      "outputs": [
        {
          "output_type": "stream",
          "name": "stdout",
          "text": [
            "A    100\n",
            "B    200\n",
            "C    300\n",
            "Name: Precios de Productos, dtype: int64\n",
            "D    150\n",
            "E    250\n",
            "C    350\n",
            "Name: Precios de Productos, dtype: int64\n",
            "A      NaN\n",
            "B      NaN\n",
            "C    650.0\n",
            "D      NaN\n",
            "E      NaN\n",
            "Name: Precios de Productos, dtype: float64\n"
          ]
        }
      ]
    },
    {
      "cell_type": "code",
      "source": [
        "#panda no contiene numpy por eso se debe exportar ambos para realizar ecuaciones complejas con panda\n",
        "import numpy as np\n",
        "import pandas as pd\n",
        "print()"
      ],
      "metadata": {
        "id": "5UZZhtRB87Rs"
      },
      "execution_count": null,
      "outputs": []
    },
    {
      "cell_type": "markdown",
      "source": [
        "EJERCICIOS"
      ],
      "metadata": {
        "id": "PjBohyAe_YVV"
      }
    },
    {
      "cell_type": "code",
      "source": [
        "import pandas as pd\n",
        "import numpy as np\n",
        "mi_serie = pd.Series([5,10,15,20],index= ['a','b','c','d'], name= 'Numerines')\n",
        "print(mi_serie)\n",
        "\n",
        "# Calcular suma, media, filtrado mayor a 10\n",
        "print(\"Suma de los datos de mi serie:\", mi_serie.sum())\n",
        "print(\"Promedio de los datos de mi serie:\", mi_serie.mean())\n",
        "print(\"Filtrado > 10 de los datos de mi serie:\\n\",mi_serie.loc[mi_serie > 10])\n",
        "\n",
        "\n",
        "\n"
      ],
      "metadata": {
        "colab": {
          "base_uri": "https://localhost:8080/"
        },
        "id": "3fCATS0c_cAv",
        "outputId": "1f7d3fca-8bc2-459e-e53f-81da092043b8"
      },
      "execution_count": null,
      "outputs": [
        {
          "output_type": "stream",
          "name": "stdout",
          "text": [
            "a     5\n",
            "b    10\n",
            "c    15\n",
            "d    20\n",
            "Name: Numerines, dtype: int64\n",
            "Suma de los datos de mi serie: 50\n",
            "Promedio de los datos de mi serie: 12.5\n",
            "Filtrado > 10 de los datos de mi serie:\n",
            " c    15\n",
            "d    20\n",
            "Name: Numerines, dtype: int64\n"
          ]
        }
      ]
    },
    {
      "cell_type": "code",
      "source": [
        "#Crear DataFrame con columnas: Producto, Precio, Cantidad y 4 Filas\n",
        "df = pd.Series({'Arroz':1000,'Cebolla' :500,'Wasabi':2300,'Soya': 1650}, index ='Producto','Precio', name='Compras')\n",
        "print(df)"
      ],
      "metadata": {
        "colab": {
          "base_uri": "https://localhost:8080/",
          "height": 141
        },
        "id": "aQJAzZQOBJ7T",
        "outputId": "43d1c80b-6c51-4261-fec7-17815c33b100"
      },
      "execution_count": null,
      "outputs": [
        {
          "output_type": "error",
          "ename": "SyntaxError",
          "evalue": "positional argument follows keyword argument (ipython-input-24-2052747224.py, line 2)",
          "traceback": [
            "\u001b[0;36m  File \u001b[0;32m\"/tmp/ipython-input-24-2052747224.py\"\u001b[0;36m, line \u001b[0;32m2\u001b[0m\n\u001b[0;31m    df = pd.Series({'Arroz':1000,'Cebolla' :500,'Wasabi':2300,'Soya': 1650}, index ='Producto','Precio', name='Compras')\u001b[0m\n\u001b[0m                                                                                                                       ^\u001b[0m\n\u001b[0;31mSyntaxError\u001b[0m\u001b[0;31m:\u001b[0m positional argument follows keyword argument\n"
          ]
        }
      ]
    },
    {
      "cell_type": "code",
      "metadata": {
        "colab": {
          "base_uri": "https://localhost:8080/"
        },
        "id": "bcfa4cba",
        "outputId": "50c3abf8-daf0-4092-97c9-acbe20b617db"
      },
      "source": [
        "import pandas as pd\n",
        "import numpy as np\n",
        "#Dataframe es una caracteristica de np\n",
        "\n",
        "Compritas = {'Producto': ['Arroz', 'Cebolla', 'Wasabi', 'Soya'],\n",
        "              'Precio': [1000, 500, 2300, 1650],'Cantidad': [3, 5, 1, 2]}\n",
        "\n",
        "df = pd.DataFrame(data)\n",
        "print(df)"
      ],
      "execution_count": null,
      "outputs": [
        {
          "output_type": "stream",
          "name": "stdout",
          "text": [
            "  Producto  Precio  Cantidad\n",
            "0    Arroz    1000         3\n",
            "1  Cebolla     500         5\n",
            "2   Wasabi    2300         1\n",
            "3     Soya    1650         2\n"
          ]
        }
      ]
    },
    {
      "cell_type": "code",
      "source": [
        "import pandas as pd\n",
        "import numpy as np\n",
        "#Dataframe es una caracteristica de np\n",
        "comprotas = pd.DataFrame([['Flauta','Guitarra','Bajo'],[3000,60000,150000]], columns=['Instrumentos','Precio'])\n",
        "print(comprotas)"
      ],
      "metadata": {
        "colab": {
          "base_uri": "https://localhost:8080/",
          "height": 443
        },
        "id": "aLXQElajOQ2p",
        "outputId": "48651eb8-1aef-4bbb-c147-40ad7783d348"
      },
      "execution_count": null,
      "outputs": [
        {
          "output_type": "error",
          "ename": "ValueError",
          "evalue": "2 columns passed, passed data had 3 columns",
          "traceback": [
            "\u001b[0;31m---------------------------------------------------------------------------\u001b[0m",
            "\u001b[0;31mAssertionError\u001b[0m                            Traceback (most recent call last)",
            "\u001b[0;32m/usr/local/lib/python3.11/dist-packages/pandas/core/internals/construction.py\u001b[0m in \u001b[0;36m_finalize_columns_and_data\u001b[0;34m(content, columns, dtype)\u001b[0m\n\u001b[1;32m    938\u001b[0m     \u001b[0;32mtry\u001b[0m\u001b[0;34m:\u001b[0m\u001b[0;34m\u001b[0m\u001b[0;34m\u001b[0m\u001b[0m\n\u001b[0;32m--> 939\u001b[0;31m         \u001b[0mcolumns\u001b[0m \u001b[0;34m=\u001b[0m \u001b[0m_validate_or_indexify_columns\u001b[0m\u001b[0;34m(\u001b[0m\u001b[0mcontents\u001b[0m\u001b[0;34m,\u001b[0m \u001b[0mcolumns\u001b[0m\u001b[0;34m)\u001b[0m\u001b[0;34m\u001b[0m\u001b[0;34m\u001b[0m\u001b[0m\n\u001b[0m\u001b[1;32m    940\u001b[0m     \u001b[0;32mexcept\u001b[0m \u001b[0mAssertionError\u001b[0m \u001b[0;32mas\u001b[0m \u001b[0merr\u001b[0m\u001b[0;34m:\u001b[0m\u001b[0;34m\u001b[0m\u001b[0;34m\u001b[0m\u001b[0m\n",
            "\u001b[0;32m/usr/local/lib/python3.11/dist-packages/pandas/core/internals/construction.py\u001b[0m in \u001b[0;36m_validate_or_indexify_columns\u001b[0;34m(content, columns)\u001b[0m\n\u001b[1;32m    985\u001b[0m             \u001b[0;31m# caller's responsibility to check for this...\u001b[0m\u001b[0;34m\u001b[0m\u001b[0;34m\u001b[0m\u001b[0m\n\u001b[0;32m--> 986\u001b[0;31m             raise AssertionError(\n\u001b[0m\u001b[1;32m    987\u001b[0m                 \u001b[0;34mf\"{len(columns)} columns passed, passed data had \"\u001b[0m\u001b[0;34m\u001b[0m\u001b[0;34m\u001b[0m\u001b[0m\n",
            "\u001b[0;31mAssertionError\u001b[0m: 2 columns passed, passed data had 3 columns",
            "\nThe above exception was the direct cause of the following exception:\n",
            "\u001b[0;31mValueError\u001b[0m                                Traceback (most recent call last)",
            "\u001b[0;32m/tmp/ipython-input-45-2309389121.py\u001b[0m in \u001b[0;36m<cell line: 0>\u001b[0;34m()\u001b[0m\n\u001b[1;32m      2\u001b[0m \u001b[0;32mimport\u001b[0m \u001b[0mnumpy\u001b[0m \u001b[0;32mas\u001b[0m \u001b[0mnp\u001b[0m\u001b[0;34m\u001b[0m\u001b[0;34m\u001b[0m\u001b[0m\n\u001b[1;32m      3\u001b[0m \u001b[0;31m#Dataframe es una caracteristica de np\u001b[0m\u001b[0;34m\u001b[0m\u001b[0;34m\u001b[0m\u001b[0m\n\u001b[0;32m----> 4\u001b[0;31m \u001b[0mcomprotas\u001b[0m \u001b[0;34m=\u001b[0m \u001b[0mpd\u001b[0m\u001b[0;34m.\u001b[0m\u001b[0mDataFrame\u001b[0m\u001b[0;34m(\u001b[0m\u001b[0;34m[\u001b[0m\u001b[0;34m[\u001b[0m\u001b[0;34m'Flauta'\u001b[0m\u001b[0;34m,\u001b[0m\u001b[0;34m'Guitarra'\u001b[0m\u001b[0;34m,\u001b[0m\u001b[0;34m'Bajo'\u001b[0m\u001b[0;34m]\u001b[0m\u001b[0;34m,\u001b[0m\u001b[0;34m[\u001b[0m\u001b[0;36m3000\u001b[0m\u001b[0;34m,\u001b[0m\u001b[0;36m60000\u001b[0m\u001b[0;34m,\u001b[0m\u001b[0;36m150000\u001b[0m\u001b[0;34m]\u001b[0m\u001b[0;34m]\u001b[0m\u001b[0;34m,\u001b[0m \u001b[0mcolumns\u001b[0m\u001b[0;34m=\u001b[0m\u001b[0;34m[\u001b[0m\u001b[0;34m'Instrumentos'\u001b[0m\u001b[0;34m,\u001b[0m\u001b[0;34m'Precio'\u001b[0m\u001b[0;34m]\u001b[0m\u001b[0;34m)\u001b[0m\u001b[0;34m\u001b[0m\u001b[0;34m\u001b[0m\u001b[0m\n\u001b[0m\u001b[1;32m      5\u001b[0m \u001b[0mprint\u001b[0m\u001b[0;34m(\u001b[0m\u001b[0mcomprotas\u001b[0m\u001b[0;34m)\u001b[0m\u001b[0;34m\u001b[0m\u001b[0;34m\u001b[0m\u001b[0m\n",
            "\u001b[0;32m/usr/local/lib/python3.11/dist-packages/pandas/core/frame.py\u001b[0m in \u001b[0;36m__init__\u001b[0;34m(self, data, index, columns, dtype, copy)\u001b[0m\n\u001b[1;32m    849\u001b[0m                     \u001b[0;32mif\u001b[0m \u001b[0mcolumns\u001b[0m \u001b[0;32mis\u001b[0m \u001b[0;32mnot\u001b[0m \u001b[0;32mNone\u001b[0m\u001b[0;34m:\u001b[0m\u001b[0;34m\u001b[0m\u001b[0;34m\u001b[0m\u001b[0m\n\u001b[1;32m    850\u001b[0m                         \u001b[0mcolumns\u001b[0m \u001b[0;34m=\u001b[0m \u001b[0mensure_index\u001b[0m\u001b[0;34m(\u001b[0m\u001b[0mcolumns\u001b[0m\u001b[0;34m)\u001b[0m\u001b[0;34m\u001b[0m\u001b[0;34m\u001b[0m\u001b[0m\n\u001b[0;32m--> 851\u001b[0;31m                     arrays, columns, index = nested_data_to_arrays(\n\u001b[0m\u001b[1;32m    852\u001b[0m                         \u001b[0;31m# error: Argument 3 to \"nested_data_to_arrays\" has incompatible\u001b[0m\u001b[0;34m\u001b[0m\u001b[0;34m\u001b[0m\u001b[0m\n\u001b[1;32m    853\u001b[0m                         \u001b[0;31m# type \"Optional[Collection[Any]]\"; expected \"Optional[Index]\"\u001b[0m\u001b[0;34m\u001b[0m\u001b[0;34m\u001b[0m\u001b[0m\n",
            "\u001b[0;32m/usr/local/lib/python3.11/dist-packages/pandas/core/internals/construction.py\u001b[0m in \u001b[0;36mnested_data_to_arrays\u001b[0;34m(data, columns, index, dtype)\u001b[0m\n\u001b[1;32m    518\u001b[0m         \u001b[0mcolumns\u001b[0m \u001b[0;34m=\u001b[0m \u001b[0mensure_index\u001b[0m\u001b[0;34m(\u001b[0m\u001b[0mdata\u001b[0m\u001b[0;34m[\u001b[0m\u001b[0;36m0\u001b[0m\u001b[0;34m]\u001b[0m\u001b[0;34m.\u001b[0m\u001b[0m_fields\u001b[0m\u001b[0;34m)\u001b[0m\u001b[0;34m\u001b[0m\u001b[0;34m\u001b[0m\u001b[0m\n\u001b[1;32m    519\u001b[0m \u001b[0;34m\u001b[0m\u001b[0m\n\u001b[0;32m--> 520\u001b[0;31m     \u001b[0marrays\u001b[0m\u001b[0;34m,\u001b[0m \u001b[0mcolumns\u001b[0m \u001b[0;34m=\u001b[0m \u001b[0mto_arrays\u001b[0m\u001b[0;34m(\u001b[0m\u001b[0mdata\u001b[0m\u001b[0;34m,\u001b[0m \u001b[0mcolumns\u001b[0m\u001b[0;34m,\u001b[0m \u001b[0mdtype\u001b[0m\u001b[0;34m=\u001b[0m\u001b[0mdtype\u001b[0m\u001b[0;34m)\u001b[0m\u001b[0;34m\u001b[0m\u001b[0;34m\u001b[0m\u001b[0m\n\u001b[0m\u001b[1;32m    521\u001b[0m     \u001b[0mcolumns\u001b[0m \u001b[0;34m=\u001b[0m \u001b[0mensure_index\u001b[0m\u001b[0;34m(\u001b[0m\u001b[0mcolumns\u001b[0m\u001b[0;34m)\u001b[0m\u001b[0;34m\u001b[0m\u001b[0;34m\u001b[0m\u001b[0m\n\u001b[1;32m    522\u001b[0m \u001b[0;34m\u001b[0m\u001b[0m\n",
            "\u001b[0;32m/usr/local/lib/python3.11/dist-packages/pandas/core/internals/construction.py\u001b[0m in \u001b[0;36mto_arrays\u001b[0;34m(data, columns, dtype)\u001b[0m\n\u001b[1;32m    843\u001b[0m         \u001b[0marr\u001b[0m \u001b[0;34m=\u001b[0m \u001b[0m_list_to_arrays\u001b[0m\u001b[0;34m(\u001b[0m\u001b[0mdata\u001b[0m\u001b[0;34m)\u001b[0m\u001b[0;34m\u001b[0m\u001b[0;34m\u001b[0m\u001b[0m\n\u001b[1;32m    844\u001b[0m \u001b[0;34m\u001b[0m\u001b[0m\n\u001b[0;32m--> 845\u001b[0;31m     \u001b[0mcontent\u001b[0m\u001b[0;34m,\u001b[0m \u001b[0mcolumns\u001b[0m \u001b[0;34m=\u001b[0m \u001b[0m_finalize_columns_and_data\u001b[0m\u001b[0;34m(\u001b[0m\u001b[0marr\u001b[0m\u001b[0;34m,\u001b[0m \u001b[0mcolumns\u001b[0m\u001b[0;34m,\u001b[0m \u001b[0mdtype\u001b[0m\u001b[0;34m)\u001b[0m\u001b[0;34m\u001b[0m\u001b[0;34m\u001b[0m\u001b[0m\n\u001b[0m\u001b[1;32m    846\u001b[0m     \u001b[0;32mreturn\u001b[0m \u001b[0mcontent\u001b[0m\u001b[0;34m,\u001b[0m \u001b[0mcolumns\u001b[0m\u001b[0;34m\u001b[0m\u001b[0;34m\u001b[0m\u001b[0m\n\u001b[1;32m    847\u001b[0m \u001b[0;34m\u001b[0m\u001b[0m\n",
            "\u001b[0;32m/usr/local/lib/python3.11/dist-packages/pandas/core/internals/construction.py\u001b[0m in \u001b[0;36m_finalize_columns_and_data\u001b[0;34m(content, columns, dtype)\u001b[0m\n\u001b[1;32m    940\u001b[0m     \u001b[0;32mexcept\u001b[0m \u001b[0mAssertionError\u001b[0m \u001b[0;32mas\u001b[0m \u001b[0merr\u001b[0m\u001b[0;34m:\u001b[0m\u001b[0;34m\u001b[0m\u001b[0;34m\u001b[0m\u001b[0m\n\u001b[1;32m    941\u001b[0m         \u001b[0;31m# GH#26429 do not raise user-facing AssertionError\u001b[0m\u001b[0;34m\u001b[0m\u001b[0;34m\u001b[0m\u001b[0m\n\u001b[0;32m--> 942\u001b[0;31m         \u001b[0;32mraise\u001b[0m \u001b[0mValueError\u001b[0m\u001b[0;34m(\u001b[0m\u001b[0merr\u001b[0m\u001b[0;34m)\u001b[0m \u001b[0;32mfrom\u001b[0m \u001b[0merr\u001b[0m\u001b[0;34m\u001b[0m\u001b[0;34m\u001b[0m\u001b[0m\n\u001b[0m\u001b[1;32m    943\u001b[0m \u001b[0;34m\u001b[0m\u001b[0m\n\u001b[1;32m    944\u001b[0m     \u001b[0;32mif\u001b[0m \u001b[0mlen\u001b[0m\u001b[0;34m(\u001b[0m\u001b[0mcontents\u001b[0m\u001b[0;34m)\u001b[0m \u001b[0;32mand\u001b[0m \u001b[0mcontents\u001b[0m\u001b[0;34m[\u001b[0m\u001b[0;36m0\u001b[0m\u001b[0;34m]\u001b[0m\u001b[0;34m.\u001b[0m\u001b[0mdtype\u001b[0m \u001b[0;34m==\u001b[0m \u001b[0mnp\u001b[0m\u001b[0;34m.\u001b[0m\u001b[0mobject_\u001b[0m\u001b[0;34m:\u001b[0m\u001b[0;34m\u001b[0m\u001b[0;34m\u001b[0m\u001b[0m\n",
            "\u001b[0;31mValueError\u001b[0m: 2 columns passed, passed data had 3 columns"
          ]
        }
      ]
    },
    {
      "cell_type": "code",
      "metadata": {
        "colab": {
          "base_uri": "https://localhost:8080/"
        },
        "id": "6ea606d3",
        "outputId": "dca6c7ea-98bf-4d7b-cc9d-fed25b9a7437"
      },
      "source": [
        "import pandas as pd\n",
        "import numpy as np\n",
        "\n",
        "comprotas = pd.DataFrame({'Flauta':3000,'Guitarra':60000 ,'Bajo':150000}, columns=['Instrumentos', 'Precio'])\n",
        "print(comprotas)"
      ],
      "execution_count": null,
      "outputs": [
        {
          "output_type": "stream",
          "name": "stdout",
          "text": [
            "Empty DataFrame\n",
            "Columns: [Instrumentos, Precio]\n",
            "Index: []\n"
          ]
        }
      ]
    },
    {
      "cell_type": "markdown",
      "source": [],
      "metadata": {
        "id": "t5-I4v47USwE"
      }
    },
    {
      "cell_type": "code",
      "source": [
        "#Ejercicio 5) Agregar una columna a mi tabla\n",
        "import pandas as pd\n",
        "import numpy as np\n",
        "datos = pd.DataFrame({\n",
        "    'Producto': ['Laptop', 'Mouse', 'Teclado', 'Monitor'],\n",
        "    'Precio': [800, 20, 50, 200],\n",
        "    'Cantidad': [5, 10, 7, 3] })\n",
        "\n",
        "print(datos)\n",
        "print()\n",
        "#crear una nueva columna, que contenga la suma de todos los productos disponibles\n",
        "datos['Total'] = datos['Precio'] * datos['Cantidad']\n",
        "print(datos)"
      ],
      "metadata": {
        "colab": {
          "base_uri": "https://localhost:8080/"
        },
        "id": "Iq4CnuT8Uk9p",
        "outputId": "32a2fcb6-14c2-4288-81e8-44e24e682d4a"
      },
      "execution_count": null,
      "outputs": [
        {
          "output_type": "stream",
          "name": "stdout",
          "text": [
            "  Producto  Precio  Cantidad\n",
            "0   Laptop     800         5\n",
            "1    Mouse      20        10\n",
            "2  Teclado      50         7\n",
            "3  Monitor     200         3\n",
            "\n",
            "  Producto  Precio  Cantidad  Total\n",
            "0   Laptop     800         5   4000\n",
            "1    Mouse      20        10    200\n",
            "2  Teclado      50         7    350\n",
            "3  Monitor     200         3    600\n"
          ]
        }
      ]
    },
    {
      "cell_type": "code",
      "source": [
        "#Crear un dataframe con datos de estudiantes\n",
        "\n",
        "notas_estudiantes =pd.DataFrame({\n",
        "    'Alumno':['Cuicito', 'Gatito','Arya','Coliflor']\n",
        "})"
      ],
      "metadata": {
        "id": "ICzog3K3i_Hn"
      },
      "execution_count": null,
      "outputs": []
    }
  ]
}