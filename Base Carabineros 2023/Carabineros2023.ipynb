{
 "cells": [
  {
   "cell_type": "code",
   "execution_count": 2,
   "id": "83ccfc7e",
   "metadata": {},
   "outputs": [],
   "source": [
    "import pandas as pd\n",
    "AnioDenDet_df = pd.read_csv(r'CSV_DATA/AnioDenDet_df.csv')\n",
    "DenDetRegiones_df = pd.read_csv(r'CSV_DATA/DenDetRegiones_df.csv')\n",
    "DenDetMes_df = pd.read_csv(r'CSV_DATA/DenDetMes_df.csv')\n",
    "DenDetDia_df = pd.read_csv(r'CSV_DATA/DenDetDia_df.csv')\n",
    "DenDetHora_df = pd.read_csv(r'CSV_DATA/DenDetHora_df.csv')\n",
    "ConsecuenciaReg_df = pd.read_csv(r'CSV_DATA/ConsecuenciaReg_df.csv')\n",
    "DetGenMes_df = pd.read_csv(r'CSV_DATA/DetGenMes_df.csv')\n",
    "DetGenDia_df = pd.read_csv(r'CSV_DATA/DetGenDia_df.csv')\n",
    "nacionalidad_df = pd.read_csv(r'CSV_DATA/nacionalidad_df.csv')\n",
    "educacion_df = pd.read_csv(r'CSV_DATA/educacion_df.csv')"
   ]
  },
  {
   "cell_type": "code",
   "execution_count": null,
   "id": "2b76f435",
   "metadata": {},
   "outputs": [],
   "source": [
    "import numpy as np\n",
    "import math as mt"
   ]
  },
  {
   "cell_type": "code",
   "execution_count": null,
   "id": "597b045c",
   "metadata": {},
   "outputs": [],
   "source": [
    "#importar df\n",
    "# frecuencia \n",
    "\n",
    "# Tabla de frecuencia absoluta\n",
    "TFrecuencia = df_notas['Notas'].value_counts().sort_index().reset_index()\n",
    "tabla_frecuencia.columns = ['Notas', 'Frecuencia']\n",
    "\n",
    "# Frecuencia relativa\n",
    "total = tabla_frecuencia['Frecuencia'].sum()\n",
    "tabla_frecuencia['Frecuencia Relativa'] = tabla_frecuencia['Frecuencia'] / total\n",
    "\n",
    "# Frecuencia acumulada\n",
    "tabla_frecuencia['Frecuencia Acumulada'] = tabla_frecuencia['Frecuencia'].cumsum()\n",
    "\n",
    "# Frecuencia relativa acumulada\n",
    "tabla_frecuencia['Frecuencia Relativa Acumulada'] = tabla_frecuencia['Frecuencia Relativa'].cumsum()\n",
    "\n",
    "# Mostrar tabla\n",
    "print(tabla_frecuencia)"
   ]
  }
 ],
 "metadata": {
  "kernelspec": {
   "display_name": "Python 3",
   "language": "python",
   "name": "python3"
  },
  "language_info": {
   "codemirror_mode": {
    "name": "ipython",
    "version": 3
   },
   "file_extension": ".py",
   "mimetype": "text/x-python",
   "name": "python",
   "nbconvert_exporter": "python",
   "pygments_lexer": "ipython3",
   "version": "3.11.9"
  }
 },
 "nbformat": 4,
 "nbformat_minor": 5
}
